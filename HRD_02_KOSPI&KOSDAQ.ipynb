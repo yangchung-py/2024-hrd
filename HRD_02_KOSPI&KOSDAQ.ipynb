{
  "cells": [
    {
      "cell_type": "markdown",
      "metadata": {
        "id": "view-in-github",
        "colab_type": "text"
      },
      "source": [
        "<a href=\"https://colab.research.google.com/github/yangchung-py/2024-hrd/blob/main/HRD_02_KOSPI%26KOSDAQ.ipynb\" target=\"_parent\"><img src=\"https://colab.research.google.com/assets/colab-badge.svg\" alt=\"Open In Colab\"/></a>"
      ]
    },
    {
      "cell_type": "markdown",
      "id": "3e5kDNH8k2PM",
      "metadata": {
        "id": "3e5kDNH8k2PM"
      },
      "source": [
        "# 양정고등학교 HRD 메이커 퀀트 실습 2\n",
        "## 코스피/코스닥 전종목 주가데이터 수집\n",
        "[Finance Data Reader 공식 문서](https://financedata.github.io/posts/finance-data-reader-users-guide.html)\n"
      ]
    },
    {
      "cell_type": "markdown",
      "id": "TxphXqwklDrM",
      "metadata": {
        "id": "TxphXqwklDrM"
      },
      "source": [
        "### 1. 초기 세팅\n",
        "\n",
        "\n"
      ]
    },
    {
      "cell_type": "code",
      "execution_count": null,
      "id": "fNT6N1j9k1Oz",
      "metadata": {
        "id": "fNT6N1j9k1Oz"
      },
      "outputs": [],
      "source": [
        "! pip install finance-datareader -q # 필요한 모듈 설치"
      ]
    },
    {
      "cell_type": "code",
      "execution_count": null,
      "id": "fVWF9nEDtAjQ",
      "metadata": {
        "id": "fVWF9nEDtAjQ"
      },
      "outputs": [],
      "source": [
        "! mkdir data && mkdir data/stockdata"
      ]
    },
    {
      "cell_type": "code",
      "execution_count": null,
      "id": "f27ab934",
      "metadata": {
        "id": "f27ab934"
      },
      "outputs": [],
      "source": [
        "import FinanceDataReader as fdr # 필요한 모듈 불러오기\n",
        "import pandas as pd\n",
        "import concurrent.futures\n",
        "import time\n",
        "import datetime\n",
        "import shutil\n",
        "\n",
        "from IPython.display import display, update_display"
      ]
    },
    {
      "cell_type": "markdown",
      "id": "63dd28bb",
      "metadata": {
        "id": "63dd28bb"
      },
      "source": [
        "### 2. 코스피 및 코스닥 종목 정보 수집"
      ]
    },
    {
      "cell_type": "code",
      "execution_count": null,
      "id": "3a10eed2",
      "metadata": {
        "id": "3a10eed2"
      },
      "outputs": [],
      "source": [
        "# 종목 목록 가져오기\n",
        "stock_list = fdr.StockListing('KRX')"
      ]
    },
    {
      "cell_type": "code",
      "execution_count": null,
      "id": "6358ece8",
      "metadata": {
        "id": "6358ece8"
      },
      "outputs": [],
      "source": [
        "# 코넥스 종목은 제외하기\n",
        "stock_list = stock_list.loc[stock_list['Market'] .isin([\"KOSPI\",\"KOSDAQ\"])]"
      ]
    },
    {
      "cell_type": "code",
      "execution_count": null,
      "id": "bc3ab0d3",
      "metadata": {
        "id": "bc3ab0d3"
      },
      "outputs": [],
      "source": [
        "# 지역이 있는 종목만 필터링하기\n",
        "stock_name_list = stock_list['Name'].tolist() # 선물, 우선주 등이 지역 정보가 없음"
      ]
    },
    {
      "cell_type": "code",
      "execution_count": null,
      "id": "84d5d701",
      "metadata": {
        "id": "84d5d701"
      },
      "outputs": [],
      "source": [
        "stock_name_list=stock_list.loc[~stock_list['Name'].str.endswith('우'),'Name'].tolist()"
      ]
    },
    {
      "cell_type": "code",
      "execution_count": null,
      "id": "7e72bd97",
      "metadata": {
        "id": "7e72bd97"
      },
      "outputs": [],
      "source": [
        "# 종목 정보 내보내기]\n",
        "stock_list.to_csv(\"./data/2024stock.csv\", sep = \"\\t\", index = False, encoding = \"utf-8\")"
      ]
    },
    {
      "cell_type": "code",
      "execution_count": null,
      "id": "hXxhX18Vl6hc",
      "metadata": {
        "id": "hXxhX18Vl6hc"
      },
      "outputs": [],
      "source": [
        "# 내보낸 정보 출력하기\n",
        "file_path = \"./data/2024stock.csv\"\n",
        "stock_list = pd.read_csv(file_path, sep=\"\\t\", encoding=\"utf-8\")\n",
        "print(stock_list)"
      ]
    },
    {
      "cell_type": "markdown",
      "id": "d40276e7",
      "metadata": {
        "id": "d40276e7"
      },
      "source": [
        "#### 3. 코스피 및 코스닥 전종목 주가 데이터 수집"
      ]
    },
    {
      "cell_type": "code",
      "execution_count": null,
      "id": "wknlX7rrqn97",
      "metadata": {
        "id": "wknlX7rrqn97"
      },
      "outputs": [],
      "source": [
        "# Widget 생성\n",
        "progress_widget = display(\"작업 시작중...\", display_id=True)\n",
        "\n",
        "def collect_stock_data(code, name):\n",
        "    try:\n",
        "        data = fdr.DataReader(code, \"2014-01-01\", \"2024-04-01\")\n",
        "        if len(data) > 300:\n",
        "            data.to_csv(\"./data/stockdata/{}.csv\".format(name))\n",
        "        # 진행 상황 업데이트\n",
        "        progress_widget.update(f\"정보 수집중 - {name}...\")\n",
        "    except Exception as e:\n",
        "        # 에러 발생 시, 진행 상황 업데이트\n",
        "        progress_widget.update(f\"Error occurred while collecting data for {name}: {str(e)}\")\n",
        "\n",
        "# 동시에 처리할 작업 수\n",
        "max_workers = 10\n",
        "\n",
        "with concurrent.futures.ThreadPoolExecutor(max_workers=max_workers) as executor:\n",
        "    # 각 종목에 대해 collect_stock_data 함수를 병렬 실행\n",
        "    futures = [executor.submit(collect_stock_data, code, name) for code, name in stock_list[['Code', \"Name\"]].values]\n",
        "\n",
        "    # 실행 결과 확인\n",
        "    for future in concurrent.futures.as_completed(futures):\n",
        "        future.result()  # 결과를 가져올 필요는 없지만, 에러 발생 시 예외 처리를 위해 호출\n",
        "\n",
        "# 모든 작업 완료 후 메시지 출력\n",
        "progress_widget.update(\"모든 작업 완료!\")"
      ]
    },
    {
      "cell_type": "code",
      "execution_count": null,
      "id": "js5JRyMputgy",
      "metadata": {
        "colab": {
          "background_save": true
        },
        "id": "js5JRyMputgy"
      },
      "outputs": [],
      "source": [
        "# 압축할 디렉토리 경로\n",
        "directory_to_zip = \"./data/stockdata\"\n",
        "\n",
        "# 압축된 파일 이름\n",
        "zip_file_name = \"zipped\"\n",
        "\n",
        "# 디렉토리 내부 모든 파일 압축하기\n",
        "shutil.make_archive(zip_file_name, 'zip', directory_to_zip)\n",
        "print(f\"압축 파일 {zip_file_name} 이 생성 완료!\")"
      ]
    }
  ],
  "metadata": {
    "colab": {
      "provenance": [],
      "include_colab_link": true
    },
    "kernelspec": {
      "display_name": "Python 3 (ipykernel)",
      "language": "python",
      "name": "python3"
    },
    "language_info": {
      "codemirror_mode": {
        "name": "ipython",
        "version": 3
      },
      "file_extension": ".py",
      "mimetype": "text/x-python",
      "name": "python",
      "nbconvert_exporter": "python",
      "pygments_lexer": "ipython3",
      "version": "3.11.5"
    }
  },
  "nbformat": 4,
  "nbformat_minor": 5
}