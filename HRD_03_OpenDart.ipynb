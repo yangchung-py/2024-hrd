{
  "cells": [
    {
      "cell_type": "markdown",
      "metadata": {
        "id": "view-in-github",
        "colab_type": "text"
      },
      "source": [
        "<a href=\"https://colab.research.google.com/github/yangchung-py/2024-hrd/blob/main/HRD_03_OpenDart.ipynb\" target=\"_parent\"><img src=\"https://colab.research.google.com/assets/colab-badge.svg\" alt=\"Open In Colab\"/></a>"
      ]
    },
    {
      "cell_type": "markdown",
      "source": [
        "# 양정고등학교 HRD 메이커 퀀트 실습 3\n",
        "## Open DART 를 이용한 기업공시 수집\n",
        "[인증키 신청](https://opendart.fss.or.kr/uss/umt/EgovMberInsertView.do)\n"
      ],
      "metadata": {
        "id": "pZs_XoO0r607"
      },
      "id": "pZs_XoO0r607"
    },
    {
      "cell_type": "markdown",
      "source": [
        "### 1. 초기 세팅"
      ],
      "metadata": {
        "id": "MnK1Qn3hsywA"
      },
      "id": "MnK1Qn3hsywA"
    },
    {
      "cell_type": "code",
      "execution_count": null,
      "id": "057b46a4",
      "metadata": {
        "id": "057b46a4"
      },
      "outputs": [],
      "source": [
        "import OpenDartReader"
      ]
    },
    {
      "cell_type": "markdown",
      "id": "febeddf0",
      "metadata": {
        "id": "febeddf0"
      },
      "source": [
        "### 2. 객체 생성"
      ]
    },
    {
      "cell_type": "code",
      "execution_count": null,
      "id": "42ae5345",
      "metadata": {
        "id": "42ae5345"
      },
      "outputs": [],
      "source": [
        "import OpenDartReader # 모듈 불러오기\n",
        "my_api = \"my_api\" # API KEY 지정\n",
        "dart = OpenDartReader(my_api) # OpenDartReader 객체 생성하기"
      ]
    },
    {
      "cell_type": "markdown",
      "id": "67d1f28d",
      "metadata": {
        "id": "67d1f28d"
      },
      "source": [
        "### 3. 주요 메서드"
      ]
    },
    {
      "cell_type": "markdown",
      "id": "475cf31a",
      "metadata": {
        "id": "475cf31a"
      },
      "source": [
        "#### list 메서드"
      ]
    },
    {
      "cell_type": "code",
      "execution_count": null,
      "id": "9e33f6ba",
      "metadata": {
        "id": "9e33f6ba"
      },
      "outputs": [],
      "source": [
        "result = dart.list(\"삼성전자\", start = \"2023-01-01\", end = \"2023-12-31\")\n",
        "display(result.head()) # 위 5개 행 출력\n",
        "display(result.shape) # 데이터프레임 구조 출력"
      ]
    },
    {
      "cell_type": "markdown",
      "id": "3dc4bc81",
      "metadata": {
        "id": "3dc4bc81"
      },
      "source": [
        "#### document 메서드"
      ]
    },
    {
      "cell_type": "code",
      "execution_count": null,
      "id": "e618aabd",
      "metadata": {
        "id": "e618aabd"
      },
      "outputs": [],
      "source": [
        "doc = dart.document(\"20201231000272\")\n",
        "print(doc)"
      ]
    },
    {
      "cell_type": "markdown",
      "id": "bc584238",
      "metadata": {
        "id": "bc584238"
      },
      "source": [
        "#### company 메서드"
      ]
    },
    {
      "cell_type": "code",
      "execution_count": null,
      "id": "54acad57",
      "metadata": {
        "id": "54acad57"
      },
      "outputs": [],
      "source": [
        "print(dart.company(\"현대자동차\")) # 현대자동차 정보 출력"
      ]
    },
    {
      "cell_type": "markdown",
      "id": "fd5da0a9",
      "metadata": {
        "id": "fd5da0a9"
      },
      "source": [
        "#### report 메서드"
      ]
    },
    {
      "cell_type": "code",
      "execution_count": null,
      "id": "cb277326",
      "metadata": {
        "id": "cb277326"
      },
      "outputs": [],
      "source": [
        "display(dart.report(\"SK하이닉스\", \"배당\", 2023, \"11011\")) # SK하이닉스의 2023년 배당 정보 출력"
      ]
    },
    {
      "cell_type": "markdown",
      "id": "7efcc1f7",
      "metadata": {
        "id": "7efcc1f7"
      },
      "source": [
        "#### finstate 메서드"
      ]
    },
    {
      "cell_type": "code",
      "execution_count": null,
      "id": "26cc5091",
      "metadata": {
        "id": "26cc5091"
      },
      "outputs": [],
      "source": [
        "result = dart.finstate(\"LG전자\", 2023, \"11011\")\n",
        "result = result.loc[result[\"fs_nm\"] == \"연결재무제표\"]\n",
        "result = result.loc[result[\"account_nm\"].isin([\"당기순이익\", \"영업이익\", \"매출액\"])]\n",
        "result = result.loc[:, [\"account_nm\", \"fs_nm\", \"sj_nm\", \"thstrm_dt\", \"thstrm_amount\"]]\n",
        "display(result)"
      ]
    },
    {
      "cell_type": "code",
      "execution_count": null,
      "id": "63ff288b",
      "metadata": {
        "id": "63ff288b"
      },
      "outputs": [],
      "source": [
        "print(result[\"thstrm_amount\"].dtype) # 데이터 타입 확인"
      ]
    },
    {
      "cell_type": "code",
      "execution_count": null,
      "id": "d2b643d0",
      "metadata": {
        "id": "d2b643d0"
      },
      "outputs": [],
      "source": [
        "def remove_comma(value):\n",
        "    return float(value.replace(\",\", \"\"))\n",
        "\n",
        "display(result[\"thstrm_amount\"].apply(remove_comma))"
      ]
    },
    {
      "cell_type": "code",
      "execution_count": null,
      "id": "37575be2",
      "metadata": {
        "id": "37575be2"
      },
      "outputs": [],
      "source": [
        "display(result[\"thstrm_amount\"].str.replace(\",\", \"\").astype(float))"
      ]
    }
  ],
  "metadata": {
    "kernelspec": {
      "display_name": "Python 3 (ipykernel)",
      "language": "python",
      "name": "python3"
    },
    "language_info": {
      "codemirror_mode": {
        "name": "ipython",
        "version": 3
      },
      "file_extension": ".py",
      "mimetype": "text/x-python",
      "name": "python",
      "nbconvert_exporter": "python",
      "pygments_lexer": "ipython3",
      "version": "3.11.5"
    },
    "colab": {
      "provenance": [],
      "include_colab_link": true
    }
  },
  "nbformat": 4,
  "nbformat_minor": 5
}